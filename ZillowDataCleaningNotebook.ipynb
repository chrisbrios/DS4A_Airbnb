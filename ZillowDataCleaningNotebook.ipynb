{
 "cells": [
  {
   "cell_type": "code",
   "execution_count": 14,
   "metadata": {},
   "outputs": [
    {
     "name": "stdout",
     "output_type": "stream",
     "text": [
      "      ID                                               File    city stateCode  \\\n",
      "0      0  <_io.TextIOWrapper name='/Users/bhava/Desktop/...  Austin        TX   \n",
      "1      1  <_io.TextIOWrapper name='/Users/bhava/Desktop/...  Austin        TX   \n",
      "2      2  <_io.TextIOWrapper name='/Users/bhava/Desktop/...  Austin        TX   \n",
      "3      3  <_io.TextIOWrapper name='/Users/bhava/Desktop/...  Austin        TX   \n",
      "4      4  <_io.TextIOWrapper name='/Users/bhava/Desktop/...  Austin        TX   \n",
      "...   ..                                                ...     ...       ...   \n",
      "1226  26  <_io.TextIOWrapper name='/Users/bhava/Desktop/...  Austin        TX   \n",
      "1227  27  <_io.TextIOWrapper name='/Users/bhava/Desktop/...  Austin        TX   \n",
      "1228  28  <_io.TextIOWrapper name='/Users/bhava/Desktop/...  Austin        TX   \n",
      "1229  29  <_io.TextIOWrapper name='/Users/bhava/Desktop/...  Austin        TX   \n",
      "1230  30  <_io.TextIOWrapper name='/Users/bhava/Desktop/...  Austin        TX   \n",
      "\n",
      "      zipCode                           fullLocation      partialLocation  \\\n",
      "0       78748    Messinger Village, Austin, TX 78748    Messinger Village   \n",
      "1       78727      8511 Cumbria Ln, Austin, TX 78727      8511 Cumbria Ln   \n",
      "2       78724           East Parke, Austin, TX 78724           East Parke   \n",
      "3       78744  7725 Ellas Inlet Dr, Austin, TX 78744  7725 Ellas Inlet Dr   \n",
      "4       78744     8216 Talferd Trl, Austin, TX 78744     8216 Talferd Trl   \n",
      "...       ...                                    ...                  ...   \n",
      "1226    78702       2938 E 12th St, Austin, TX 78702       2938 E 12th St   \n",
      "1227    78758    1417 Kramer Ln #6, Austin, TX 78758    1417 Kramer Ln #6   \n",
      "1228    78723     6509 Ashland Cir, Austin, TX 78723     6509 Ashland Cir   \n",
      "1229    78741     2101 Thrasher Ln, Austin, TX 78741     2101 Thrasher Ln   \n",
      "1230    78758   1417 Kramer Ln #20, Austin, TX 78758   1417 Kramer Ln #20   \n",
      "\n",
      "                                            coordinates       price  \\\n",
      "0     {'latitude': 30.169666, 'longitude': -97.81633...   $604,990+   \n",
      "1     {'latitude': 30.167301, 'longitude': -97.69487...    $582,406   \n",
      "2     {'latitude': 30.306007, 'longitude': -97.65784...   $556,990+   \n",
      "3     {'latitude': 30.148088, 'longitude': -97.71072...    $743,984   \n",
      "4     {'latitude': 30.146832, 'longitude': -97.71106...    $511,605   \n",
      "...                                                 ...         ...   \n",
      "1226  {'latitude': 30.276512, 'longitude': -97.70513...  $1,150,000   \n",
      "1227  {'latitude': 30.383001, 'longitude': -97.69890...    $444,900   \n",
      "1228  {'latitude': 30.30755, 'longitude': -97.665909...    $365,000   \n",
      "1229  {'latitude': 30.22196, 'longitude': -97.70047,...    $370,000   \n",
      "1230  {'latitude': 30.383001, 'longitude': -97.69890...    $549,900   \n",
      "\n",
      "                                             floorSpace  \\\n",
      "0     {'formattedDimension': '2,013 sqft', '__typena...   \n",
      "1     {'formattedDimension': '2,274 sqft', '__typena...   \n",
      "2     {'formattedDimension': '2,235 sqft', '__typena...   \n",
      "3     {'formattedDimension': '2,981 sqft', '__typena...   \n",
      "4     {'formattedDimension': '1,518 sqft', '__typena...   \n",
      "...                                                 ...   \n",
      "1226                                                NaN   \n",
      "1227  {'formattedDimension': '2,104 sqft', '__typena...   \n",
      "1228  {'formattedDimension': '1,643 sqft', '__typena...   \n",
      "1229  {'formattedDimension': '976 sqft', '__typename...   \n",
      "1230  {'formattedDimension': '2,600 sqft', '__typena...   \n",
      "\n",
      "                                               bedrooms  \\\n",
      "0     {'formattedValue': '4bd', '__typename': 'HOME_...   \n",
      "1     {'formattedValue': '4bd', '__typename': 'HOME_...   \n",
      "2     {'formattedValue': '3bd', '__typename': 'HOME_...   \n",
      "3     {'formattedValue': '4bd', '__typename': 'HOME_...   \n",
      "4     {'formattedValue': '2bd', '__typename': 'HOME_...   \n",
      "...                                                 ...   \n",
      "1226                                                NaN   \n",
      "1227  {'formattedValue': '3bd', '__typename': 'HOME_...   \n",
      "1228  {'formattedValue': '4bd', '__typename': 'HOME_...   \n",
      "1229  {'formattedValue': '2bd', '__typename': 'HOME_...   \n",
      "1230  {'formattedValue': '3bd', '__typename': 'HOME_...   \n",
      "\n",
      "                                              bathrooms  \n",
      "0     {'formattedValue': '3ba', '__typename': 'HOME_...  \n",
      "1     {'formattedValue': '3ba', '__typename': 'HOME_...  \n",
      "2     {'formattedValue': '3ba', '__typename': 'HOME_...  \n",
      "3     {'formattedValue': '3ba', '__typename': 'HOME_...  \n",
      "4     {'formattedValue': '2ba', '__typename': 'HOME_...  \n",
      "...                                                 ...  \n",
      "1226                                                NaN  \n",
      "1227  {'formattedValue': '4ba', '__typename': 'HOME_...  \n",
      "1228  {'formattedValue': '2ba', '__typename': 'HOME_...  \n",
      "1229  {'formattedValue': '1ba', '__typename': 'HOME_...  \n",
      "1230  {'formattedValue': '3ba', '__typename': 'HOME_...  \n",
      "\n",
      "[1231 rows x 12 columns]\n"
     ]
    }
   ],
   "source": [
    "#Creating the default Dataframe\n",
    "import pandas as pd \n",
    "import numpy as np \n",
    "import pandas_profiling\n",
    "import datetime\n",
    "from geopy.geocoders import Nominatim\n",
    "import re\n",
    "from coordinates_function import grabCoordinates\n",
    "\n",
    "#Original file \n",
    "xlsx_path = '/Users/chrisrios/Desktop/Data_science/airbnb_post_merge/Airbnb_Project/zillow_data/Zillow_Austin_housing.xlsx'\n",
    "\n",
    "#Making the Dataframe\n",
    "zillow_df = pd.read_excel(xlsx_path)\n",
    "\n",
    "#output the dataframe\n",
    "print(zillow_df)"
   ]
  },
  {
   "cell_type": "code",
   "execution_count": 2,
   "metadata": {},
   "outputs": [],
   "source": [
    "#rename columns to have no spaces\n",
    "zillow_df.rename(columns = \n",
    "   {\n",
    "    'Bedroom':'num_bedrooms', \n",
    "    'Bathroom':'num_bathrooms', \n",
    "    'Sqft':'sqft',\n",
    "    'Zestimate':'home_price',\n",
    "    'Address':'street_address',\n",
    "    'City':'city',\n",
    "    'Zip Code':'zipcode', \n",
    "    'latestPrice':'rent_price',\n",
    "    'Latest_salemonth':'latest_salemonth'}, inplace = True)\n",
    "\n"
   ]
  },
  {
   "cell_type": "code",
   "execution_count": 3,
   "metadata": {},
   "outputs": [],
   "source": [
    "#Data Validation \n",
    "\n",
    "#Remove text from bedrooms\n",
    "zillow_df['num_bedrooms'] =  zillow_df['num_bedrooms'].str.replace('bd', '')\n",
    "\n",
    "#Getting rid of blank spaces \n",
    "try:\n",
    "    zillow_df['city'] = zillow_df['city'].str.strip()\n",
    "except: print(\"City column already deleted\")\n",
    "\n",
    "#Change weird characters to NaNs\n",
    "zillow_df = zillow_df.replace('--', np.NaN)\n",
    "zillow_df = zillow_df.replace(' --', np.NaN)\n",
    "\n",
    "#replacing empty number fields with NaN\n",
    "zillow_df['rent_price'] = zillow_df['rent_price'].replace(' ', np.NaN)\n",
    "zillow_df['num_bathrooms'] = zillow_df['num_bathrooms'].replace(' ', np.NaN)\n",
    "zillow_df['num_bedrooms'] = zillow_df['num_bedrooms'].replace(' ', np.NaN)\n",
    "zillow_df['home_price'] = zillow_df['home_price'].replace(' ', np.NaN)\n",
    "zillow_df['sqft'] = zillow_df['sqft'].replace(' ', np.NaN)\n",
    "zillow_df['rent_price'] = zillow_df['rent_price'].replace(' ', np.NaN)\n",
    "\n",
    "#Cleaning up rent \n",
    "zillow_df['rent_price'] = zillow_df['rent_price'].replace(\"$\",\"\")\n",
    "zillow_df['rent_price'] = zillow_df['rent_price'].replace(\",\",\"\")\n",
    "\n",
    "#Move high rent prices to the home prices (misconfigured originally)\n",
    "for index,row in zillow_df.iterrows():\n",
    "      #Grabbing the original string\n",
    "      if zillow_df.loc[index , 'rent_price'] > 50000:\n",
    "            rent_string = zillow_df.loc[index , 'rent_price']\n",
    "            zillow_df.loc[index,'home_price'] = rent_string\n",
    "            zillow_df.loc[index,'rent_price'] = np.NaN\n",
    "\n",
    "#Drop NaNs that cant be interpolated\n",
    "zillow_df.dropna(subset='num_bathrooms',inplace=True)\n",
    "\n",
    "#Replace missing sqft with NaN\n",
    "zillow_df['sqft'].fillna(np.nan)\n",
    "\n",
    "#Drop bad years (1900)\n",
    "zillow_df.drop(zillow_df.index[zillow_df['latest_saleyear'] == 1900], inplace = True)\n",
    "\n",
    "\n",
    "\n",
    "#Drop Non Austin Cities \n",
    "\"\"\"\n",
    "Drop all cities that arent Austin \n",
    "    -everything after drop is the criteria\n",
    "    -df.index selects \n",
    "\"\"\"\n",
    "try:\n",
    "    zillow_df.drop(zillow_df[zillow_df['city'] != \"Austin\"].index, inplace=True)\n",
    "except:\n",
    "    print(\"city column already deleted\")\n",
    "\n",
    "#Drop irrelevent columns \n",
    "try:\n",
    "    zillow_df.drop(columns=['city','Acres', 'numPriceChange','State','rent_price'],inplace=True)\n",
    "except: print(\"The columns have already been deleted\")"
   ]
  },
  {
   "cell_type": "code",
   "execution_count": 4,
   "metadata": {},
   "outputs": [],
   "source": [
    "# Change repetitive data into Categories (efficiency)\n",
    "def convertToCategory(*args):\n",
    "    for col in args:\n",
    "        zillow_df[col] = zillow_df[col].astype('category')\n",
    "\n",
    "def convertToFloat(*args):\n",
    "    for col in args:\n",
    "        zillow_df[col] = zillow_df[col].astype('float64')\n",
    "\n",
    "#Convert dates to Datetime DT\n",
    "def convertToDt(*args):\n",
    "    for arg in args:\n",
    "        zillow_df[arg] = pd.to_datetime(zillow_df[arg])\n",
    "\n",
    "def replaceCharacters(*args, column, newvalue):\n",
    "    \"\"\"Replaces x strings of characters, takes column and the new value to replace the values with \"\"\"\n",
    "    for oldvalue in args:\n",
    "        zillow_df[column] = zillow_df[column].replace(oldvalue,newvalue)\n",
    "\n",
    "convertToFloat('num_bedrooms','num_bathrooms','sqft')\n"
   ]
  },
  {
   "cell_type": "markdown",
   "metadata": {},
   "source": []
  },
  {
   "cell_type": "code",
   "execution_count": 5,
   "metadata": {},
   "outputs": [],
   "source": [
    "#Round Bathrooms\n",
    "bathlambda = lambda bath : round(bath * 2) / 2\n",
    "zillow_df['num_bathrooms'] = bathlambda(zillow_df['num_bathrooms'])"
   ]
  },
  {
   "cell_type": "code",
   "execution_count": 6,
   "metadata": {},
   "outputs": [],
   "source": [
    "#Data Interpolation"
   ]
  },
  {
   "cell_type": "code",
   "execution_count": 7,
   "metadata": {},
   "outputs": [],
   "source": []
  },
  {
   "cell_type": "code",
   "execution_count": 8,
   "metadata": {},
   "outputs": [],
   "source": [
    "#Create Square footage bins\n",
    "zillow_df['sqft_bins'] = pd.cut(zillow_df['sqft'], 10)\n"
   ]
  },
  {
   "cell_type": "code",
   "execution_count": 9,
   "metadata": {},
   "outputs": [
    {
     "name": "stdout",
     "output_type": "stream",
     "text": [
      "There were 902 missing bedrooms\n",
      "After backfilling there are now 9 missing bedrooms\n"
     ]
    }
   ],
   "source": [
    "#Count missing bedrooms\n",
    "Nanbedrooms = zillow_df['num_bedrooms'].isna().sum()\n",
    "print(\"There were \" + str(Nanbedrooms) + \" missing bedrooms\")\n",
    "\n",
    "#fill Bedrooms based on bathrooms + zipcode\n",
    "zillow_df['num_bedrooms'] = zillow_df.groupby(['sqft_bins', 'num_bathrooms']).num_bedrooms.bfill()\n",
    "zillow_df['num_bedrooms'] = zillow_df.groupby(['sqft_bins', 'num_bathrooms']).num_bedrooms.ffill()\n",
    "\n",
    "Nanbedrooms = zillow_df['num_bedrooms'].isna().sum()\n",
    "print(\"After backfilling there are now \" + str(Nanbedrooms) + \" missing bedrooms\")"
   ]
  },
  {
   "cell_type": "code",
   "execution_count": 10,
   "metadata": {},
   "outputs": [],
   "source": [
    "#Drop the remaining missing\n",
    "zillow_df['num_bedrooms'].dropna(inplace=True)\n",
    "zillow_df['sqft'].dropna(inplace=True)\n"
   ]
  },
  {
   "cell_type": "code",
   "execution_count": 11,
   "metadata": {},
   "outputs": [],
   "source": [
    "#Samuel told me to rather drop this column. IGNORE\n",
    "\n",
    "    #Count missing rents\n",
    "    #nanRent = zillow_df['rent_price'].isna().sum()\n",
    "    #print(\"There were \" + str(nanRent) + \" missing rent\")\n",
    "\n",
    "    ##fill Rent based on closest column that shares bathrooms + zipcode + Bedrooms\n",
    "    #zillow_df['rent_price'] = zillow_df.groupby(['sqft', 'num_bedrooms']).rent_price.bfill()\n",
    "    #nanRent = zillow_df['rent_price'].isna().sum()\n",
    "    #print(\"After backfilling there are now \" + str(nanRent) + \" missing rent\")"
   ]
  },
  {
   "cell_type": "code",
   "execution_count": null,
   "metadata": {},
   "outputs": [],
   "source": [
    "#reorder Dataframe\n",
    "zillow_df = zillow_df[[\n",
    "    'street_address', \n",
    "    'latitude',\n",
    "    'longitude',\n",
    "    'zipcode' , \n",
    "    'num_bedrooms', \n",
    "    'num_bathrooms', \n",
    "    'home_price' , \n",
    "    'latest_saledate',\n",
    "    'latest_salemonth',\n",
    "    'latest_saleyear',\n",
    "    'URL'\n",
    "    ]]"
   ]
  },
  {
   "cell_type": "code",
   "execution_count": null,
   "metadata": {},
   "outputs": [
    {
     "data": {
      "text/plain": [
       "street_address       object\n",
       "zipcode               int64\n",
       "num_bedrooms        float64\n",
       "num_bathrooms       float64\n",
       "home_price          float64\n",
       "latest_saledate       int64\n",
       "latest_salemonth      int64\n",
       "latest_saleyear       int64\n",
       "URL                  object\n",
       "dtype: object"
      ]
     },
     "execution_count": 45,
     "metadata": {},
     "output_type": "execute_result"
    }
   ],
   "source": [
    "#Check Data Types\n",
    "zillow_df.dtypes"
   ]
  },
  {
   "cell_type": "code",
   "execution_count": null,
   "metadata": {},
   "outputs": [],
   "source": [
    "def generate_Report():\n",
    "    #Generate the profile Report\n",
    "    profile = pandas_profiling.ProfileReport(zillow_df, title = \"Zillow Profiling Report\") \n",
    "    #Display within the notebook\n",
    "    profile.to_notebook_iframe()\n",
    "\n",
    "#generate_Report()"
   ]
  },
  {
   "cell_type": "code",
   "execution_count": 47,
   "metadata": {},
   "outputs": [],
   "source": [
    "    zillow_df.to_csv('/Users/chrisrios/Desktop/Data_science/Airbnb_Project/zillow_data/cleaned_zillow_sales.csv')"
   ]
  },
  {
   "cell_type": "code",
   "execution_count": null,
   "metadata": {},
   "outputs": [],
   "source": []
  }
 ],
 "metadata": {
  "interpreter": {
   "hash": "10fe4e124a58af55a72a857f8977d2373bc694bda243e856e202bf3d9de56972"
  },
  "kernelspec": {
   "display_name": "Python 3.9.12 ('airbnb')",
   "language": "python",
   "name": "python3"
  },
  "language_info": {
   "codemirror_mode": {
    "name": "ipython",
    "version": 3
   },
   "file_extension": ".py",
   "mimetype": "text/x-python",
   "name": "python",
   "nbconvert_exporter": "python",
   "pygments_lexer": "ipython3",
   "version": "3.9.12"
  },
  "orig_nbformat": 4
 },
 "nbformat": 4,
 "nbformat_minor": 2
}
