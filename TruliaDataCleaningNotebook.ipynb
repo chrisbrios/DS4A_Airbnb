{
 "cells": [
  {
   "cell_type": "code",
   "execution_count": 47,
   "metadata": {},
   "outputs": [
    {
     "name": "stdout",
     "output_type": "stream",
     "text": [
      "      ID                                               File    city stateCode  \\\n",
      "0      0  <_io.TextIOWrapper name='/Users/bhava/Desktop/...  Austin        TX   \n",
      "1      1  <_io.TextIOWrapper name='/Users/bhava/Desktop/...  Austin        TX   \n",
      "2      2  <_io.TextIOWrapper name='/Users/bhava/Desktop/...  Austin        TX   \n",
      "3      3  <_io.TextIOWrapper name='/Users/bhava/Desktop/...  Austin        TX   \n",
      "4      4  <_io.TextIOWrapper name='/Users/bhava/Desktop/...  Austin        TX   \n",
      "...   ..                                                ...     ...       ...   \n",
      "1226  26  <_io.TextIOWrapper name='/Users/bhava/Desktop/...  Austin        TX   \n",
      "1227  27  <_io.TextIOWrapper name='/Users/bhava/Desktop/...  Austin        TX   \n",
      "1228  28  <_io.TextIOWrapper name='/Users/bhava/Desktop/...  Austin        TX   \n",
      "1229  29  <_io.TextIOWrapper name='/Users/bhava/Desktop/...  Austin        TX   \n",
      "1230  30  <_io.TextIOWrapper name='/Users/bhava/Desktop/...  Austin        TX   \n",
      "\n",
      "      zipCode                           fullLocation      partialLocation  \\\n",
      "0       78748    Messinger Village, Austin, TX 78748    Messinger Village   \n",
      "1       78727      8511 Cumbria Ln, Austin, TX 78727      8511 Cumbria Ln   \n",
      "2       78724           East Parke, Austin, TX 78724           East Parke   \n",
      "3       78744  7725 Ellas Inlet Dr, Austin, TX 78744  7725 Ellas Inlet Dr   \n",
      "4       78744     8216 Talferd Trl, Austin, TX 78744     8216 Talferd Trl   \n",
      "...       ...                                    ...                  ...   \n",
      "1226    78702       2938 E 12th St, Austin, TX 78702       2938 E 12th St   \n",
      "1227    78758    1417 Kramer Ln #6, Austin, TX 78758    1417 Kramer Ln #6   \n",
      "1228    78723     6509 Ashland Cir, Austin, TX 78723     6509 Ashland Cir   \n",
      "1229    78741     2101 Thrasher Ln, Austin, TX 78741     2101 Thrasher Ln   \n",
      "1230    78758   1417 Kramer Ln #20, Austin, TX 78758   1417 Kramer Ln #20   \n",
      "\n",
      "                                            coordinates        price  \\\n",
      "0     {'latitude': 30.169666, 'longitude': -97.81633...    $604,990+   \n",
      "1     {'latitude': 30.167301, 'longitude': -97.69487...    $582,406    \n",
      "2     {'latitude': 30.306007, 'longitude': -97.65784...    $556,990+   \n",
      "3     {'latitude': 30.148088, 'longitude': -97.71072...    $743,984    \n",
      "4     {'latitude': 30.146832, 'longitude': -97.71106...    $511,605    \n",
      "...                                                 ...          ...   \n",
      "1226  {'latitude': 30.276512, 'longitude': -97.70513...  $1,150,000    \n",
      "1227  {'latitude': 30.383001, 'longitude': -97.69890...    $444,900    \n",
      "1228  {'latitude': 30.30755, 'longitude': -97.665909...    $365,000    \n",
      "1229  {'latitude': 30.22196, 'longitude': -97.70047,...    $370,000    \n",
      "1230  {'latitude': 30.383001, 'longitude': -97.69890...    $549,900    \n",
      "\n",
      "                                             floorSpace  \\\n",
      "0     {'formattedDimension': '2,013 sqft', '__typena...   \n",
      "1     {'formattedDimension': '2,274 sqft', '__typena...   \n",
      "2     {'formattedDimension': '2,235 sqft', '__typena...   \n",
      "3     {'formattedDimension': '2,981 sqft', '__typena...   \n",
      "4     {'formattedDimension': '1,518 sqft', '__typena...   \n",
      "...                                                 ...   \n",
      "1226                                                NaN   \n",
      "1227  {'formattedDimension': '2,104 sqft', '__typena...   \n",
      "1228  {'formattedDimension': '1,643 sqft', '__typena...   \n",
      "1229  {'formattedDimension': '976 sqft', '__typename...   \n",
      "1230  {'formattedDimension': '2,600 sqft', '__typena...   \n",
      "\n",
      "                                               bedrooms  \\\n",
      "0     {'formattedValue': '4bd', '__typename': 'HOME_...   \n",
      "1     {'formattedValue': '4bd', '__typename': 'HOME_...   \n",
      "2     {'formattedValue': '3bd', '__typename': 'HOME_...   \n",
      "3     {'formattedValue': '4bd', '__typename': 'HOME_...   \n",
      "4     {'formattedValue': '2bd', '__typename': 'HOME_...   \n",
      "...                                                 ...   \n",
      "1226                                                NaN   \n",
      "1227  {'formattedValue': '3bd', '__typename': 'HOME_...   \n",
      "1228  {'formattedValue': '4bd', '__typename': 'HOME_...   \n",
      "1229  {'formattedValue': '2bd', '__typename': 'HOME_...   \n",
      "1230  {'formattedValue': '3bd', '__typename': 'HOME_...   \n",
      "\n",
      "                                              bathrooms  \n",
      "0     {'formattedValue': '3ba', '__typename': 'HOME_...  \n",
      "1     {'formattedValue': '3ba', '__typename': 'HOME_...  \n",
      "2     {'formattedValue': '3ba', '__typename': 'HOME_...  \n",
      "3     {'formattedValue': '3ba', '__typename': 'HOME_...  \n",
      "4     {'formattedValue': '2ba', '__typename': 'HOME_...  \n",
      "...                                                 ...  \n",
      "1226                                                NaN  \n",
      "1227  {'formattedValue': '4ba', '__typename': 'HOME_...  \n",
      "1228  {'formattedValue': '2ba', '__typename': 'HOME_...  \n",
      "1229  {'formattedValue': '1ba', '__typename': 'HOME_...  \n",
      "1230  {'formattedValue': '3ba', '__typename': 'HOME_...  \n",
      "\n",
      "[1231 rows x 12 columns]\n"
     ]
    }
   ],
   "source": [
    "import pandas as pd \n",
    "import numpy as np \n",
    "import pandas_profiling\n",
    "import datetime\n",
    "\n",
    "#Original file \n",
    "csv_path = '/Users/chrisrios/Desktop/Data_science/airbnb_post_merge/DS4A/austindata.csv'\n",
    "\n",
    "#Making the Dataframe\n",
    "trulia_df = pd.read_csv(csv_path)\n",
    "\n",
    "#output the dataframe\n",
    "print(trulia_df)\n",
    "\n",
    "#rename column with no space \n",
    "trulia_df.rename(columns = {'fullLocation':'full_location', 'partialLocation':'street_address','price':'home_price','bedrooms':'num_bedrooms' ,'bathrooms':'num_bathrooms'}, inplace = True)\n",
    "\n",
    "#Drop columns that are irrelevent/redundant and not found in other data sources\n",
    "trulia_df.drop(columns= ['ID','File','stateCode'],inplace= True)\n"
   ]
  },
  {
   "cell_type": "code",
   "execution_count": 48,
   "metadata": {},
   "outputs": [],
   "source": [
    "\"\"\"\n",
    "Drop all cities that arent Austin \n",
    "    -everything after drop is the criteria\n",
    "    -df.index selects \n",
    "\"\"\"\n",
    "trulia_df.drop(trulia_df[trulia_df['city'] != \"Austin\"].index, inplace=True)"
   ]
  },
  {
   "cell_type": "code",
   "execution_count": 51,
   "metadata": {},
   "outputs": [
    {
     "data": {
      "text/plain": [
       "0       {'formattedDimension': '2,013 sqft', '__typena...\n",
       "1       {'formattedDimension': '2,274 sqft', '__typena...\n",
       "2       {'formattedDimension': '2,235 sqft', '__typena...\n",
       "3       {'formattedDimension': '2,981 sqft', '__typena...\n",
       "4       {'formattedDimension': '1,518 sqft', '__typena...\n",
       "                              ...                        \n",
       "1226                                                  NaN\n",
       "1227    {'formattedDimension': '2,104 sqft', '__typena...\n",
       "1228    {'formattedDimension': '1,643 sqft', '__typena...\n",
       "1229    {'formattedDimension': '976 sqft', '__typename...\n",
       "1230    {'formattedDimension': '2,600 sqft', '__typena...\n",
       "Name: floorSpace, Length: 1172, dtype: object"
      ]
     },
     "execution_count": 51,
     "metadata": {},
     "output_type": "execute_result"
    }
   ],
   "source": [
    "#Cleaning up the coordinates into two seperate columns\n",
    "for index,row in trulia_df.iterrows():\n",
    "    split_coordinates = trulia_df.loc[index,'coordinates'].split(',')\n",
    "    trulia_df.loc[index, 'latitude'] = split_coordinates[0].replace(\"{'latitude': \",\"\")\n",
    "    trulia_df.loc[index, 'longitude'] = split_coordinates[1].replace(\" 'longitude': \",\"\")\n",
    "\n",
    "#Cleaning sqft\n",
    "#for index,row in trulia_df.iterrows():\n",
    "    #split_coordinates = trulia_df.loc[index,'sqft'].split(',')\n",
    "    #trulia_df.loc[index, 'latitude'] = split_coordinates[0].replace(\"{'formattedDimension': '\",\"\")\n",
    "\n",
    "trulia_df['floorSpace'].replace(\"N/A\",np.nan)\n",
    "\n",
    "\n",
    "#for index,row in trulia_df.iterrows():\n",
    "    #split_sqft = trulia_df.loc[index,'floorSpace'].split(' ')\n",
    "    #trulia_df.loc[index, 'sqft'] = split_sqft[1].replace(\",\",\"\")\n",
    "\n",
    "\n"
   ]
  },
  {
   "cell_type": "code",
   "execution_count": null,
   "metadata": {},
   "outputs": [],
   "source": [
    "\n",
    "trulia_df.drop(columns= ['coordinates','city'],inplace= True)"
   ]
  },
  {
   "cell_type": "code",
   "execution_count": null,
   "metadata": {},
   "outputs": [],
   "source": [
    "#Merge CSVs (Original and ZipCode one)"
   ]
  },
  {
   "cell_type": "code",
   "execution_count": 38,
   "metadata": {},
   "outputs": [
    {
     "data": {
      "text/plain": [
       "city              object\n",
       "zipCode            int64\n",
       "full_location     object\n",
       "street_address    object\n",
       "coordinates       object\n",
       "home_price        object\n",
       "sqft              object\n",
       "num_bedrooms      object\n",
       "num_bathrooms     object\n",
       "latitude          object\n",
       "longitude         object\n",
       "dtype: object"
      ]
     },
     "execution_count": 38,
     "metadata": {},
     "output_type": "execute_result"
    }
   ],
   "source": [
    "#Check Data Types\n",
    "trulia_df.dtypes"
   ]
  },
  {
   "cell_type": "code",
   "execution_count": null,
   "metadata": {},
   "outputs": [],
   "source": [
    "#Change repetitive data into Categories (efficiency)\n",
    "def convertToCategory(*args):\n",
    "    for col in args:\n",
    "        trulia_df[col] = trulia_df[col].astype('category')\n",
    "\n",
    "def convertToInt(*args):\n",
    "    for col in args:\n",
    "        trulia_df[col] = trulia_df[col].astype('int64')\n",
    "\n",
    "#Convert dates to Datetime DT\n",
    "def convertToDt(*args):\n",
    "    for arg in args:\n",
    "        trulia_df[arg] = pd.to_datetime(trulia_df[arg])\n",
    "\n",
    "convertToCategory('city','home_type')\n",
    "convertToDt('latest_saledate','latest_salemonth', 'latest_saleyear')\n",
    "\n",
    "trulia_df.dtypes"
   ]
  },
  {
   "cell_type": "code",
   "execution_count": null,
   "metadata": {},
   "outputs": [],
   "source": [
    "#Home Image Transformation\n",
    "#Remove end string (-p_f.jpg) \n",
    "trulia_df['home_image'] = trulia_df['home_image'].str.replace(\"-p_f.jpg\",\"\")\n",
    "\n",
    "#Strip off everything up to _ from images for url creation\n",
    "for index,row in trulia_df.iterrows():\n",
    "      #Grabbing the original string\n",
    "      try: \n",
    "            partition_string = trulia_df.loc[index , 'home_image'].partition(\"_\")\n",
    "      except AttributeError:\n",
    "            print(\"There was an AttributeError somewhere\")\n",
    "            \n",
    "      else:    \n",
    "            trulia_df.loc[index ,'home_image'] = partition_string[2]"
   ]
  },
  {
   "cell_type": "code",
   "execution_count": null,
   "metadata": {},
   "outputs": [],
   "source": [
    "trulia_df.describe()"
   ]
  },
  {
   "cell_type": "code",
   "execution_count": null,
   "metadata": {},
   "outputs": [],
   "source": [
    "#Change Home image to include full URL \n",
    "#Grabbed strings from the img request when visiting site\n",
    "default_image_urlbeg = 'https://www.trulia.com/pictures/thumbs_5/zillowstatic/fp/'\n",
    "default_image_urlend = '-full.webp'\n",
    "\n",
    "#apply the URL schema via a new column\n",
    "trulia_df['home_imageURL'] = trulia_df['home_image'].apply(lambda x: default_image_urlbeg + str(x) + default_image_urlend)\n",
    "\n",
    "#Remove all invalid home images that have a long length \n",
    "for index,row in trulia_df.iterrows():\n",
    "   if len( row['home_imageURL']) > 125:\n",
    "      trulia_df.loc[index ,'home_imageURL'] = \"Not Available\"\n",
    "\n",
    "#Drop the original homeImage column \n",
    "trulia_df.drop(columns = 'home_image', inplace=True)"
   ]
  },
  {
   "cell_type": "code",
   "execution_count": null,
   "metadata": {},
   "outputs": [],
   "source": [
    "#Trim Blank Space in Description column\n",
    "trulia_df['description'] = trulia_df['description'].str.strip()\n",
    "trulia_df['latest_price'] = trulia_df['latest_price'].str.strip()\n",
    "\n",
    "def replaceCharacters(*args, column, newvalue):\n",
    "    \"\"\"\n",
    "    Replaces x strings of characters, takes column and the new value to replace the values with \n",
    "    \"\"\"\n",
    "    for oldvalue in args:\n",
    "        trulia_df[column] = trulia_df[column].replace(oldvalue,newvalue)\n",
    "\n",
    "#Replace missing values in Description Column \n",
    "replaceCharacters(\"\",\"-\",\".\",\"....\",'\\\\', column='description', newvalue=\"Not Available\")\n",
    "\n",
    "#drop $ and commas from home values\n",
    "trulia_df['latest_price'] = trulia_df['latest_price'].str.replace(\"$\",\"\")\n",
    "trulia_df['latest_price'] = trulia_df['latest_price'].str.replace(\",\",\"\")\n",
    "trulia_df['latest_price'] = trulia_df[\"latest_price\"].astype(float).astype(int)\n",
    "\n",
    "#convertToInt('latest_price')"
   ]
  },
  {
   "cell_type": "code",
   "execution_count": null,
   "metadata": {},
   "outputs": [],
   "source": [
    "#Pull out the rent from Description \n",
    "substring = \"The Rent Zestimate for this home is $\"\n",
    "\n",
    "#Grab the estimated rent from the description\n",
    "for index, row in trulia_df.iterrows():\n",
    "    rent_string = trulia_df.loc[index, 'description'].partition(substring)\n",
    "    #If the estimate wasnt null append it to the corresponding index and column\n",
    "    if rent_string[2] != \"\":\n",
    "        trulia_df.loc[index,'rent_estimate'] = rent_string[2]\n",
    "\n",
    "#Get rid of non numeric values\n",
    "\n",
    "trulia_df['rent_estimate'] = trulia_df['rent_estimate'].str.replace(\"/mo.\",\"\")\n",
    "trulia_df['rent_estimate'] = trulia_df['rent_estimate'].str.replace(\",\",\"\")\n",
    "\n",
    "#Change Nan to 0's\n",
    "trulia_df['rent_estimate'] = trulia_df['rent_estimate'].fillna(0)"
   ]
  },
  {
   "cell_type": "code",
   "execution_count": null,
   "metadata": {},
   "outputs": [],
   "source": [
    "#Dealing with outliers\n",
    "\n",
    "def changePropertyValue(address, column, newValue):\n",
    "    \"\"\"\n",
    "    Parameters: property address, column you want to change value in, the New value\n",
    "    \"\"\"\n",
    "    trulia_df.loc[trulia_df.street_address == address, column] = newValue\n",
    "\n",
    "changePropertyValue('4212 Far West Blvd', 'num_bathrooms', 3)\n",
    "changePropertyValue('1812 Eagles Glen Cv', 'rent_estimate', 5600)\n",
    "changePropertyValue('1812 Eagles Glen Cv', 'latest_price', 999000)\n",
    "changePropertyValue('7109 Greenshores Dr', 'rent_estimate', 7865)\n",
    "changePropertyValue('7109 Greenshores Dr', 'latest_price', 1125000)\n",
    "changePropertyValue('1907 Holly St', 'latest_price', 2000000)\n",
    "changePropertyValue('1500 Hartford Rd', 'latest_price', 2149100)\n",
    "changePropertyValue('1500 Hartford Rd', 'rent_estimate', 6417)\n",
    "changePropertyValue('3602 River Rd', 'latest_price', 1990000)\n",
    "changePropertyValue('1604 Eva St', 'latest_price', 1799900)\n",
    "changePropertyValue('1604 Eva St', 'rental_estimate',  7100)\n",
    "changePropertyValue('2800 Westlake Dr', 'latest_price', 1995000)\n",
    "changePropertyValue('8801 Young Ln', 'latest_price', 1049900 )\n",
    "changePropertyValue('4109 E 12th St #2','latest_price',675400)\n",
    "\n",
    "#Deleting outliers that arent true or arent viable properties\n",
    "trulia_df.drop(trulia_df.loc[trulia_df['num_bedrooms'] > 15].index, inplace=True)\n",
    "trulia_df.drop(trulia_df.loc[trulia_df['num_bedrooms'] == 0].index, inplace=True)\n",
    "trulia_df.drop(trulia_df.loc[trulia_df['num_bathrooms'] == 0].index, inplace=True)\n",
    "trulia_df.drop(trulia_df.loc[trulia_df['home_type'] == 'Vacant Land'].index, inplace=True)\n"
   ]
  },
  {
   "cell_type": "code",
   "execution_count": null,
   "metadata": {},
   "outputs": [],
   "source": []
  },
  {
   "cell_type": "code",
   "execution_count": null,
   "metadata": {},
   "outputs": [],
   "source": [
    "def generate_Report():\n",
    "    #Generate the profile Report\n",
    "    profile = pandas_profiling.ProfileReport(trulia_df, title = \"Pandas Profiling Report\") \n",
    "    #Display within the notebook\n",
    "    profile.to_notebook_iframe()\n",
    "\n"
   ]
  },
  {
   "cell_type": "code",
   "execution_count": null,
   "metadata": {},
   "outputs": [],
   "source": []
  }
 ],
 "metadata": {
  "interpreter": {
   "hash": "10fe4e124a58af55a72a857f8977d2373bc694bda243e856e202bf3d9de56972"
  },
  "kernelspec": {
   "display_name": "Python 3.9.12 ('airbnb')",
   "language": "python",
   "name": "python3"
  },
  "language_info": {
   "codemirror_mode": {
    "name": "ipython",
    "version": 3
   },
   "file_extension": ".py",
   "mimetype": "text/x-python",
   "name": "python",
   "nbconvert_exporter": "python",
   "pygments_lexer": "ipython3",
   "version": "3.9.12"
  },
  "orig_nbformat": 4
 },
 "nbformat": 4,
 "nbformat_minor": 2
}
