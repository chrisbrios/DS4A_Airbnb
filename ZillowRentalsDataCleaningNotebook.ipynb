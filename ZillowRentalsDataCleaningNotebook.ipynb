{
 "cells": [
  {
   "cell_type": "code",
   "execution_count": null,
   "metadata": {},
   "outputs": [],
   "source": [
    "import pandas as pd\n",
    "import numpy as np\n",
    "import pandas_profiling\n",
    "from coordinates_function import grabCoordinates\n",
    "\n",
    "#Original file \n",
    "xlsx_path = '/Users/chrisrios/Desktop/Data_science/airbnb_post_merge/Airbnb_Project/zillow_data/Zillow_for_rent.xlsx'\n",
    "\n",
    "#Making the Dataframe\n",
    "rental_df = pd.read_excel(xlsx_path)\n",
    "\n",
    "#output the dataframe\n",
    "print(rental_df)"
   ]
  },
  {
   "cell_type": "code",
   "execution_count": null,
   "metadata": {},
   "outputs": [],
   "source": [
    "#Rename and drop irrelevent columns\n",
    "\n",
    "#rename columns to have no spaces\n",
    "rental_df.rename(columns = \n",
    "   {\n",
    "    'Price':'rent_price', \n",
    "    'Bedroom':'num_bedrooms', \n",
    "    'Bathroom':'num_bathrooms',     \n",
    "    'Sqft':'sqft',\n",
    "    'Address':'street_address',\n",
    "    'City':'city',\n",
    "    'Zip Code':'zipcode', \n",
    "    'Type':'type'}, inplace = True )\n",
    "\n",
    "try:\n",
    "    rental_df.drop(rental_df[rental_df['city'] != \" Austin\"].index, inplace=True)\n",
    "except:\n",
    "    print(\"city column already deleted\")\n",
    "\n",
    "try:\n",
    "    rental_df.drop(columns=['Rent Zestimate','List by','Name','city','Phone Number','Date available', 'Cooling', 'Heating', 'Pets','Parking','Laundry','Deposit fees', 'Year Built','State'],inplace=True)\n",
    "except: \n",
    "    print(\"The columns have already been deleted\")\n",
    "    "
   ]
  },
  {
   "cell_type": "code",
   "execution_count": null,
   "metadata": {},
   "outputs": [],
   "source": [
    "#Rename rent to only be numbers and remove '--'\n",
    "def clean_rent(old_chars):\n",
    "    \"\"\"\n",
    "    Arguments: \n",
    "        header = the header(s) to target\n",
    "        old_chars = Characters you want to remove\n",
    "    \"\"\"\n",
    "    for o in old_chars: \n",
    "        rental_df['rent_price'] = rental_df['rent_price'].str.replace(o, \"\")\n",
    "\n",
    "clean_rent(['$',',',' A','/mo','--'])\n"
   ]
  },
  {
   "cell_type": "code",
   "execution_count": null,
   "metadata": {},
   "outputs": [],
   "source": [
    "rental_df = rental_df.replace('--', np.NaN)\n",
    "#rental_df['num_bathrooms'] = rental_df.replace('--', np.NaN)\n",
    "\n",
    "def clean_rent(old_chars):\n",
    "    \"\"\"\n",
    "    Arguments: \n",
    "        header = the header(s) to target\n",
    "        old_chars = Characters you want to remove\n",
    "    \"\"\"\n",
    "    for o in old_chars: \n",
    "        rental_df['rent_price'] = rental_df['rent_price'].replace(o, \"\")\n",
    "\n",
    "clean_rent(['$',',',' A','/mo'])"
   ]
  },
  {
   "cell_type": "code",
   "execution_count": null,
   "metadata": {},
   "outputs": [],
   "source": [
    "#Change bad datatypes\n",
    "def convertToFloat(*args):\n",
    "    for col in args:\n",
    "        rental_df[col] = rental_df[col].astype('float64')\n",
    "\n",
    "#Drop empty square footage properties\n",
    "rental_df.dropna(subset='sqft',inplace=True)\n",
    "\n",
    "#Change dtypes \n",
    "convertToFloat('num_bedrooms')\n",
    "convertToFloat('num_bathrooms')\n",
    "convertToFloat('sqft',)\n",
    "convertToFloat('rent_price')\n",
    "\n",
    "rental_df['type'] = rental_df['type'].astype('category')"
   ]
  },
  {
   "cell_type": "code",
   "execution_count": null,
   "metadata": {},
   "outputs": [],
   "source": [
    "#Fill missing values with most common value\n",
    "rental_df['num_bathrooms'].fillna(rental_df['num_bathrooms'].mode,inplace=True)"
   ]
  },
  {
   "cell_type": "code",
   "execution_count": null,
   "metadata": {},
   "outputs": [],
   "source": [
    "rental_df = grabCoordinates(rental_df)"
   ]
  },
  {
   "cell_type": "code",
   "execution_count": 9,
   "metadata": {},
   "outputs": [],
   "source": [
    "#Reorder\n",
    "rental_df = rental_df[[\n",
    "    'street_address', \n",
    "    'zipcode',\n",
    "    'latitude',\n",
    "    'longitude', \n",
    "    'num_bedrooms', \n",
    "    'num_bathrooms',\n",
    "    'rent_price' , \n",
    "    'sqft', \n",
    "    'type',    \n",
    "    'URL'\n",
    "    ]]"
   ]
  },
  {
   "cell_type": "code",
   "execution_count": null,
   "metadata": {},
   "outputs": [],
   "source": [
    "def generate_Report():\n",
    "    #Generate the profile Report\n",
    "    profile = pandas_profiling.ProfileReport(rental_df, title = \"Zillow Rental Report\") \n",
    "    #Display within the notebook\n",
    "    profile.to_notebook_iframe()\n",
    "\n",
    "#generate_Report()"
   ]
  },
  {
   "cell_type": "code",
   "execution_count": 11,
   "metadata": {},
   "outputs": [],
   "source": [
    "    rental_df.to_csv('/Users/chrisrios/Desktop/Data_science/airbnb_post_merge/Airbnb_Project/zillow_data/cleaned_zillow_rentals.csv')"
   ]
  },
  {
   "cell_type": "code",
   "execution_count": null,
   "metadata": {},
   "outputs": [],
   "source": []
  }
 ],
 "metadata": {
  "interpreter": {
   "hash": "35e4cc8e5ef4bba788dd9df223f131ed6e7dfd0ffa2c5ace9f5be22c742510b6"
  },
  "kernelspec": {
   "display_name": "Python 3.9.12 ('Airbnb')",
   "language": "python",
   "name": "python3"
  },
  "language_info": {
   "codemirror_mode": {
    "name": "ipython",
    "version": 3
   },
   "file_extension": ".py",
   "mimetype": "text/x-python",
   "name": "python",
   "nbconvert_exporter": "python",
   "pygments_lexer": "ipython3",
   "version": "3.9.12"
  },
  "orig_nbformat": 4
 },
 "nbformat": 4,
 "nbformat_minor": 2
}
